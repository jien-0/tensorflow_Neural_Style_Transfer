{
 "cells": [
  {
   "cell_type": "code",
   "execution_count": 2,
   "metadata": {},
   "outputs": [
    {
     "name": "stdout",
     "output_type": "stream",
     "text": [
      "The autoreload extension is already loaded. To reload it, use:\n",
      "  %reload_ext autoreload\n",
      "Iteration: 0\n",
      "Total loss: 2.1346e+07, style loss: 2.1346e+07, content loss: 0.0000e+00\n",
      "Iteration: 500\n",
      "Total loss: 2.1389e+05, style loss: 6.4471e+04, content loss: 1.4942e+05\n"
     ]
    }
   ],
   "source": [
    "import tensorflow as tf\n",
    "import os\n",
    "import image\n",
    "import model\n",
    "%load_ext autoreload\n",
    "%autoreload 2\n",
    "content_path = 'input/content/1568191910.jpg'\n",
    "style_path = 'input/style/717785735331368467.jpg'\n",
    "\n",
    "# content = image.loadimg(content_path).astype('uint8')\n",
    "# style = image.loadimg(style_path).astype('uint8')\n",
    "\n",
    "# Content layer where will pull our feature maps\n",
    "content_layers = ['block4_conv2']\n",
    "\n",
    "# Style layer we are interested in\n",
    "style_layers = ['block1_conv1',\n",
    "                'block2_conv1',\n",
    "                'block3_conv1',\n",
    "                'block4_conv1',\n",
    "                'block5_conv1'\n",
    "                ]\n",
    "# i,j = 0,0\n",
    "# for c_img in os.listdir('input/content/'):\n",
    "#     c_path = os.path.join('input/content/',c_img)\n",
    "#     os.makedirs(f'output/{i}/')\n",
    "    \n",
    "#     for s_img in os.listdir('input/style/'):\n",
    "\n",
    "#         s_path = os.path.join('input/style/',s_img)\n",
    "#         best, best_loss = model.run_nst(c_path,s_path,iteration=1000)\n",
    "#         image.saveimg(best, f'output/{i}/{j}.jpg')\n",
    "#         j += 1\n",
    "#     i += 1\n",
    "    \n",
    "    \n",
    "\n",
    "best, best_loss = model.run_nst(content_path,style_path,iteration=1000)\n",
    "\n",
    "image.saveimg(best, 'output/output10.jpg')"
   ]
  },
  {
   "cell_type": "code",
   "execution_count": null,
   "metadata": {},
   "outputs": [],
   "source": []
  }
 ],
 "metadata": {
  "kernelspec": {
   "display_name": "Python 3",
   "language": "python",
   "name": "python3"
  },
  "language_info": {
   "codemirror_mode": {
    "name": "ipython",
    "version": 3
   },
   "file_extension": ".py",
   "mimetype": "text/x-python",
   "name": "python",
   "nbconvert_exporter": "python",
   "pygments_lexer": "ipython3",
   "version": "3.6.9"
  }
 },
 "nbformat": 4,
 "nbformat_minor": 4
}
