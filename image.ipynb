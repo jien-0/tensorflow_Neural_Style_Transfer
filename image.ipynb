{
 "cells": [
  {
   "cell_type": "code",
   "execution_count": 11,
   "metadata": {},
   "outputs": [],
   "source": [
    "import numpy as np\n",
    "import tensorflow as tf\n",
    "from PIL import Image\n",
    "from tensorflow.keras.preprocessing import image as kp_image\n",
    "import matplotlib.pyplot as plt"
   ]
  },
  {
   "cell_type": "code",
   "execution_count": 47,
   "metadata": {},
   "outputs": [],
   "source": [
    "def loadimg(path_to_img):\n",
    "    \"\"\"\n",
    "    load the image and scale it to a proper size\n",
    "    \"\"\"\n",
    "    img = Image.open(path_to_img)\n",
    "    longer_dim = max(img.size)\n",
    "    max_dim = 512\n",
    "    scale = max_dim / longer_dim\n",
    "    img = img.resize((round(img.size[0] * scale),round(img.size[1] * scale)),Image.ANTIALIAS)\n",
    "    img = kp_image.img_to_array(img)\n",
    "    img = np.expand_dims(img,axis = 0)\n",
    "    return img"
   ]
  },
  {
   "cell_type": "code",
   "execution_count": 48,
   "metadata": {},
   "outputs": [],
   "source": [
    "def showimg(img):\n",
    "    out = np.squeeze(img,axis = 0)\n",
    "    out = out.astype('uint8')\n",
    "    plt.axis('off')\n",
    "    plt.imshow(out)"
   ]
  },
  {
   "cell_type": "code",
   "execution_count": 49,
   "metadata": {},
   "outputs": [],
   "source": [
    "def pre_process_img(path_to_img):\n",
    "    img = loadimg(path_to_img)\n",
    "    img = tf.keras.applications.vgg19.preprocess_input(img)\n",
    "    return img"
   ]
  },
  {
   "cell_type": "code",
   "execution_count": 50,
   "metadata": {},
   "outputs": [],
   "source": [
    "def deprocess_img(processed_img):\n",
    "    img = processed_img.copy()\n",
    "    if len(img.shape) == 4:\n",
    "        img = np.squeeze(img,0)\n",
    "    assert len(img.shape) == 3,('The input of the deprocess_img must be a image with dims of'\n",
    "                                '[1,height,width,channel] or [height,width,channel]')\n",
    "    if len(img.shape) != 3:\n",
    "        raise ValueError('Invalid Input to deprocess_img')\n",
    "    \n",
    "    img[:, :, 0] += 103.939\n",
    "    img[:, :, 1] += 116.779\n",
    "    img[:, :, 2] += 123.68\n",
    "    img = img[:, :, ::-1]\n",
    "    \n",
    "    img = np.clip(img,0,255).astype('uint8')\n",
    "    return img"
   ]
  },
  {
   "cell_type": "code",
   "execution_count": 51,
   "metadata": {},
   "outputs": [],
   "source": [
    "def saveimg(bestimg,path):\n",
    "    img = Image.fromarray(bestimg)\n",
    "    img.save(path)"
   ]
  }
 ],
 "metadata": {
  "kernelspec": {
   "display_name": "Python 3",
   "language": "python",
   "name": "python3"
  },
  "language_info": {
   "codemirror_mode": {
    "name": "ipython",
    "version": 3
   },
   "file_extension": ".py",
   "mimetype": "text/x-python",
   "name": "python",
   "nbconvert_exporter": "python",
   "pygments_lexer": "ipython3",
   "version": "3.7.3"
  }
 },
 "nbformat": 4,
 "nbformat_minor": 2
}
